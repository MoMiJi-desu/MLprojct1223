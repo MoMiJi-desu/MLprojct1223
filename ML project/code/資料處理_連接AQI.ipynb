{
 "cells": [
  {
   "cell_type": "code",
   "execution_count": 1,
   "metadata": {},
   "outputs": [],
   "source": [
    "import pandas as pd\n",
    "\n",
    "\n",
    "a_df = pd.read_csv(r\"D:\\python_jupty\\機器學習作業\\2022全台AQI\\大里AQI_2022.csv\")\n",
    "b_df = pd.read_csv(r\"D:\\python_jupty\\機器學習作業\\中部空品區_2022\\大里資料轉換_2022.csv\")\n",
    "\n",
    "\n",
    "\n",
    "\n",
    "merged_df = pd.merge(b_df, a_df[['datacreationdate', 'aqi']], left_on='time', right_on='datacreationdate', how='left')\n",
    "\n",
    "\n",
    "\n",
    "\n",
    "merged_df.drop(columns=['datacreationdate'], inplace=True)\n",
    "\n",
    "\n",
    "merged_df.to_csv(r\"D:\\python_jupty\\機器學習作業\\大里連接AQI_2022.csv\", index=False)"
   ]
  }
 ],
 "metadata": {
  "kernelspec": {
   "display_name": "Python 3",
   "language": "python",
   "name": "python3"
  },
  "language_info": {
   "codemirror_mode": {
    "name": "ipython",
    "version": 3
   },
   "file_extension": ".py",
   "mimetype": "text/x-python",
   "name": "python",
   "nbconvert_exporter": "python",
   "pygments_lexer": "ipython3",
   "version": "3.12.0"
  }
 },
 "nbformat": 4,
 "nbformat_minor": 2
}
