{
 "cells": [
  {
   "cell_type": "code",
   "execution_count": null,
   "metadata": {},
   "outputs": [
    {
     "name": "stdout",
     "output_type": "stream",
     "text": [
      "          time  AMB_TEMP   CH4    CO  NMHC   NO   NO2   NOx    O3  PM10  \\\n",
      "0     44562.00      15.4  2.24  0.44  0.17  1.5  21.7  23.3   6.8    41   \n",
      "1     44562.04      15.1  2.29  0.45  0.17  1.9  21.2  23.2   7.1    45   \n",
      "2     44562.08      15.8  2.22  0.45  0.14  1.7  21.7  23.5   9.3    41   \n",
      "3     44562.13      15.5  2.85  0.47  0.19  2.0  21.3  23.3   5.4    42   \n",
      "4     44562.17      15.3  2.47  0.49  0.23  2.9  22.7  25.6   1.5    47   \n",
      "...        ...       ...   ...   ...   ...  ...   ...   ...   ...   ...   \n",
      "8755  44926.79      18.9  2.11  0.43  0.11  1.0  16.9  17.9  21.4    16   \n",
      "8756  44926.83      18.5  2.14  0.45  0.11  0.9  16.5  17.5  19.4    20   \n",
      "8757  44926.88      18.5  2.20  0.51  0.14  1.0  20.1  21.1  14.3    25   \n",
      "8758  44926.92      18.3  2.13  0.44  0.11  0.9  17.9  18.8  15.7    16   \n",
      "8759  44926.96      18.2  2.19  0.43  0.09  0.8  15.0  15.9  17.1    15   \n",
      "\n",
      "      PM2.5  RAINFALL  RH  SO2   THC  WD_HR  WIND_DIREC  WIND_SPEED  WS_HR  \\\n",
      "0        27       0.0  78  2.1  2.41    269         278         1.9    1.4   \n",
      "1        31       0.0  80  2.1  2.46    277         318         1.1    1.0   \n",
      "2        28       0.0  78  2.0  2.36     11         112         1.1    0.3   \n",
      "3        31       0.0  79  1.8  3.04    145         226         0.9    0.4   \n",
      "4        35       0.0  81  1.8  2.70    200         260         1.1    0.4   \n",
      "...     ...       ...  ..  ...   ...    ...         ...         ...    ...   \n",
      "8755     11       0.0  72  1.8  2.22    356          15         1.7    1.1   \n",
      "8756     10       0.0  74  1.9  2.25    349         315         1.0    0.9   \n",
      "8757      9       0.0  75  2.0  2.34    336         321         1.3    0.6   \n",
      "8758     10       0.0  77  1.8  2.24    352          12         1.1    1.1   \n",
      "8759      9       0.0  79  1.9  2.28    340         330         0.7    0.7   \n",
      "\n",
      "      aqi  \n",
      "0      54  \n",
      "1      60  \n",
      "2      67  \n",
      "3      71  \n",
      "4      75  \n",
      "...   ...  \n",
      "8755   36  \n",
      "8756   34  \n",
      "8757   31  \n",
      "8758   33  \n",
      "8759   28  \n",
      "\n",
      "[8760 rows x 20 columns]\n",
      "缺值補全完成，結果已保存至 processed_data.csv\n"
     ]
    },
    {
     "name": "stderr",
     "output_type": "stream",
     "text": [
      "C:\\Users\\吳誠哲\\AppData\\Local\\Temp\\ipykernel_12704\\3290509973.py:17: FutureWarning: DataFrame.fillna with 'method' is deprecated and will raise in a future version. Use obj.ffill() or obj.bfill() instead.\n",
      "  df.fillna(method='ffill', inplace=True)\n",
      "C:\\Users\\吳誠哲\\AppData\\Local\\Temp\\ipykernel_12704\\3290509973.py:18: FutureWarning: DataFrame.fillna with 'method' is deprecated and will raise in a future version. Use obj.ffill() or obj.bfill() instead.\n",
      "  df.fillna(method='bfill', inplace=True)\n"
     ]
    }
   ],
   "source": [
    "import pandas as pd\n",
    "import numpy as np\n",
    "\n",
    "\n",
    "\n",
    "df = pd.read_csv(r\"D:\\python_jupty\\機器學習作業\\忠明連接AQI.csv\")\n",
    "\n",
    "\n",
    "df.replace({'*': np.nan, '#': np.nan,'x': np.nan,'A' : np.nan,-1 : np.nan}, inplace=True)\n",
    "\n",
    "df = df.apply(pd.to_numeric, errors='ignore')\n",
    "\n",
    "\n",
    "df.interpolate(method='linear', inplace=True)\n",
    "\n",
    "\n",
    "df.fillna(method='ffill', inplace=True)  \n",
    "df.fillna(method='bfill', inplace=True) \n",
    "\n",
    "df['aqi'] = df['aqi'].astype(int)\n",
    "df['PM10'] = df['PM10'].astype(int)\n",
    "df['PM2.5'] = df['PM2.5'].astype(int)\n",
    "df['WD_HR'] = df['WD_HR'].astype(int)\n",
    "df['WIND_DIREC'] = df['WIND_DIREC'].astype(int)\n",
    "\n",
    "df['RH'] = df['RH'].astype(int)\n",
    "print(df)\n",
    "\n",
    "\n",
    "df.to_csv('大里補值完_2022.csv', index=False)\n",
    "print(\"缺值補全完成，結果已保存至 processed_data.csv\")"
   ]
  }
 ],
 "metadata": {
  "kernelspec": {
   "display_name": "Python 3",
   "language": "python",
   "name": "python3"
  },
  "language_info": {
   "codemirror_mode": {
    "name": "ipython",
    "version": 3
   },
   "file_extension": ".py",
   "mimetype": "text/x-python",
   "name": "python",
   "nbconvert_exporter": "python",
   "pygments_lexer": "ipython3",
   "version": "3.12.0"
  }
 },
 "nbformat": 4,
 "nbformat_minor": 2
}
